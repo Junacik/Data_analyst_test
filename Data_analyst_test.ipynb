{
 "cells": [
  {
   "cell_type": "markdown",
   "id": "cecc66bd",
   "metadata": {},
   "source": [
    "# Data Analyst Test"
   ]
  },
  {
   "cell_type": "markdown",
   "id": "5d09057f",
   "metadata": {},
   "source": [
    "## Import required libraries"
   ]
  },
  {
   "cell_type": "code",
   "execution_count": 2,
   "id": "adc277da",
   "metadata": {},
   "outputs": [],
   "source": [
    "import pandas as pd\n",
    "import sqlite3"
   ]
  },
  {
   "cell_type": "markdown",
   "id": "26e811e2",
   "metadata": {},
   "source": [
    "## SQLite database connection"
   ]
  },
  {
   "cell_type": "code",
   "execution_count": 3,
   "id": "f5b78f77",
   "metadata": {},
   "outputs": [],
   "source": [
    "conn = sqlite3.connect('w3schools.db')"
   ]
  },
  {
   "cell_type": "markdown",
   "id": "0b96b74e",
   "metadata": {},
   "source": [
    "## Task 1: What is the most expensive product?"
   ]
  },
  {
   "cell_type": "code",
   "execution_count": 9,
   "id": "aea5cb7e",
   "metadata": {
    "scrolled": true
   },
   "outputs": [
    {
     "name": "stdout",
     "output_type": "stream",
     "text": [
      "Most expensive product:\n",
      "     productname  price\n",
      "0  Cate de Blaye  263.5\n"
     ]
    }
   ],
   "source": [
    "product_query = \"SELECT * FROM products ORDER BY price DESC LIMIT 1\"\n",
    "product_df = pd.read_sql_query(product_query, conn)\n",
    "print(\"Most expensive product:\")\n",
    "print(product_df[['productname', 'price']])"
   ]
  },
  {
   "cell_type": "markdown",
   "id": "15803279",
   "metadata": {},
   "source": [
    "## Task 2: What is the average product price?"
   ]
  },
  {
   "cell_type": "code",
   "execution_count": 10,
   "id": "a182251f",
   "metadata": {},
   "outputs": [
    {
     "name": "stdout",
     "output_type": "stream",
     "text": [
      "Average product price: 28.866363636363637\n"
     ]
    }
   ],
   "source": [
    "product_price_query = \"SELECT AVG(price) as averageprice FROM products\"\n",
    "product_price_df = pd.read_sql_query(product_price_query, conn)\n",
    "average_product_price = product_price_df['averageprice'].values[0]\n",
    "print(\"Average product price:\", average_product_price)"
   ]
  },
  {
   "cell_type": "markdown",
   "id": "11cbd4f6",
   "metadata": {},
   "source": [
    "## Task 3: List of customers whose name starts with 'B'"
   ]
  },
  {
   "cell_type": "code",
   "execution_count": 11,
   "id": "371291bd",
   "metadata": {},
   "outputs": [
    {
     "name": "stdout",
     "output_type": "stream",
     "text": [
      "Customers whose name starts with 'B':\n",
      "   customerid               customername         contactname  \\\n",
      "0           5         Berglunds snabbkap  Christina Berglund   \n",
      "1           6    Blauer See Delikatessen          Hanna Moos   \n",
      "2           7       Blondel pare et fils  Fradarique Citeaux   \n",
      "3           8  Balido Comidas preparadas       Martan Sommer   \n",
      "4           9                   Bon app'   Laurence Lebihans   \n",
      "5          10     Bottom-Dollar Marketse   Elizabeth Lincoln   \n",
      "6          11              B's Beverages   Victoria Ashworth   \n",
      "\n",
      "                address        city postalcode  country  \n",
      "0        Berguvsvagen 8       Lulea   S-958 22   Sweden  \n",
      "1        Forsterstr. 57    Mannheim      68306  Germany  \n",
      "2      24, place Klaber  Strasbourg      67000   France  \n",
      "3        C/ Araquil, 67      Madrid      28023    Spain  \n",
      "4  12, rue des Bouchers   Marseille      13008   France  \n",
      "5    23 Tsawassen Blvd.   Tsawassen    T2F 8M4   Canada  \n",
      "6     Fauntleroy Circus      London    EC2 5NT       UK  \n"
     ]
    }
   ],
   "source": [
    "customers_query = \"SELECT * FROM Customers WHERE CustomerName LIKE 'B%'\"\n",
    "customers_df = pd.read_sql_query(customers_query, conn)\n",
    "print(\"Customers whose name starts with 'B':\")\n",
    "print(customers_df)"
   ]
  },
  {
   "cell_type": "markdown",
   "id": "214a09fc",
   "metadata": {},
   "source": [
    "## Task 4: Number of products by category and supplier, sorted by the number of products"
   ]
  },
  {
   "cell_type": "code",
   "execution_count": 12,
   "id": "5b77666a",
   "metadata": {},
   "outputs": [
    {
     "name": "stdout",
     "output_type": "stream",
     "text": [
      "Number of products by category and supplier:\n",
      "      categoryname                            suppliername  NumberOfProducts\n",
      "0       Condiments              New Orleans Cajun Delights                 4\n",
      "1      Confections                Specialty Biscuits, Ltd.                 4\n",
      "2        Beverages                       Bigfoot Breweries                 3\n",
      "3      Confections             Heli Saawaren GmbH & Co. KG                 3\n",
      "4   Dairy Products                 Formaggi Fortini s.r.l.                 3\n",
      "5   Dairy Products                         Norske Meierier                 3\n",
      "6          Seafood                       Svensk Sjafada AB                 3\n",
      "7        Beverages              Aux joyeux ecclasiastiques                 2\n",
      "8        Beverages                           Exotic Liquid                 2\n",
      "9       Condiments               Grandma Kelly's Homestead                 2\n",
      "10     Confections                               Karkki Oy                 2\n",
      "11     Confections                     Zaanse Snoepfabriek                 2\n",
      "12  Dairy Products      Cooperativa de Quesos 'Las Cabras'                 2\n",
      "13  Dairy Products                            Gai paturage                 2\n",
      "14  Grains/Cereals                        PB Knackebrad AB                 2\n",
      "15  Grains/Cereals                    Pasta Buttini s.r.l.                 2\n",
      "16    Meat/Poultry                               Ma Maison                 2\n",
      "17         Seafood                              Lyngbysild                 2\n",
      "18         Seafood             New England Seafood Cannery                 2\n",
      "19       Beverages                               Karkki Oy                 1\n",
      "20       Beverages                            Leka Trading                 1\n",
      "21       Beverages                           Pavlova, Ltd.                 1\n",
      "22       Beverages       Plutzer Lebensmittelgroamarkte AG                 1\n",
      "23       Beverages               Refrescos Americanas LTDA                 1\n",
      "24      Condiments                           Exotic Liquid                 1\n",
      "25      Condiments                        Forats d'arables                 1\n",
      "26      Condiments                            Leka Trading                 1\n",
      "27      Condiments                                Mayumi's                 1\n",
      "28      Condiments                           Pavlova, Ltd.                 1\n",
      "29      Condiments       Plutzer Lebensmittelgroamarkte AG                 1\n",
      "30     Confections                        Forats d'arables                 1\n",
      "31     Confections                           Pavlova, Ltd.                 1\n",
      "32  Grains/Cereals                             G'day, Mate                 1\n",
      "33  Grains/Cereals                            Leka Trading                 1\n",
      "34  Grains/Cereals       Plutzer Lebensmittelgroamarkte AG                 1\n",
      "35    Meat/Poultry                             G'day, Mate                 1\n",
      "36    Meat/Poultry                           Pavlova, Ltd.                 1\n",
      "37    Meat/Poultry       Plutzer Lebensmittelgroamarkte AG                 1\n",
      "38    Meat/Poultry                           Tokyo Traders                 1\n",
      "39         Produce                             G'day, Mate                 1\n",
      "40         Produce               Grandma Kelly's Homestead                 1\n",
      "41         Produce                                Mayumi's                 1\n",
      "42         Produce       Plutzer Lebensmittelgroamarkte AG                 1\n",
      "43         Produce                           Tokyo Traders                 1\n",
      "44         Seafood                      Escargots Nouveaux                 1\n",
      "45         Seafood                                Mayumi's                 1\n",
      "46         Seafood  Nord-Ost-Fisch Handelsgesellschaft mbH                 1\n",
      "47         Seafood                           Pavlova, Ltd.                 1\n",
      "48         Seafood                           Tokyo Traders                 1\n"
     ]
    }
   ],
   "source": [
    "product_counts_query = \"\"\"\n",
    "    SELECT c.categoryname, s.suppliername, COUNT(p.productid) AS NumberOfProducts\n",
    "    FROM products p\n",
    "    JOIN categories c ON p.categoryid = c.categoryid\n",
    "    JOIN suppliers s ON p.supplierid = s.supplierid\n",
    "    GROUP BY c.categoryname, s.suppliername\n",
    "    ORDER BY NumberOfProducts DESC\n",
    "\"\"\"\n",
    "product_counts_df = pd.read_sql_query(product_counts_query, conn)\n",
    "print(\"Number of products by category and supplier:\")\n",
    "print(product_counts_df)"
   ]
  },
  {
   "cell_type": "markdown",
   "id": "f4cb7a77",
   "metadata": {},
   "source": [
    "## Task 5: List of customers who made more than one order"
   ]
  },
  {
   "cell_type": "code",
   "execution_count": 13,
   "id": "03a10d4c",
   "metadata": {},
   "outputs": [
    {
     "name": "stdout",
     "output_type": "stream",
     "text": [
      "Customers who made more than one order:\n",
      "    customerid                    customername  OrderCount\n",
      "0           20                    Ernst Handel          10\n",
      "1           63                      QUICK-Stop           7\n",
      "2           65      Rattlesnake Canyon Grocery           7\n",
      "3           87                  Wartian Herkku           7\n",
      "4           37    Hungry Owl All-Night Grocers           6\n",
      "5           75           Split Rail Beer & Ale           6\n",
      "6           41                La maison d'Asie           5\n",
      "7           46               LILA-Supermercado           5\n",
      "8           51                  Mare Paillarde           5\n",
      "9            7            Blondel pare et fils           4\n",
      "10          10          Bottom-Dollar Marketse           4\n",
      "11          24                  Folk och fa HB           4\n",
      "12          25                  Frankenversand           4\n",
      "13          55          Old World Delicatessen           4\n",
      "14          61                     Que Delacia           4\n",
      "15          71              Save-a-lot Markets           4\n",
      "16          80             Tortuga Restaurante           4\n",
      "17          86               Die Wandernde Kuh           4\n",
      "18           5              Berglunds snabbkap           3\n",
      "19           9                        Bon app'           3\n",
      "20          21              Familia Arquibaldo           3\n",
      "21          36      Hungry Coyote Import Store           3\n",
      "22          38                  Island Trading           3\n",
      "23          44             Lehmanns Marktstand           3\n",
      "24          49    Magazzini Alimentari Riuniti           3\n",
      "25          59                Piccolo und mehr           3\n",
      "26          60         Princesa Isabel Vinhoss           3\n",
      "27          66              Reggiani Caseifici           3\n",
      "28          69                Romero y tomillo           3\n",
      "29          72              Seven Seas Imports           3\n",
      "30           4                 Around the Horn           2\n",
      "31          14               Chop-suey Chinese           2\n",
      "32          17       Drachenblut Delikatessend           2\n",
      "33          19              Eastern Connection           2\n",
      "34          28  Furia Bacalhau e Frutos do Mar           2\n",
      "35          29          Galeraa del gastranomo           2\n",
      "36          34                   Hanari Carnes           2\n",
      "37          35                HILARIaN-Abastos           2\n",
      "38          39                 Kaniglich Essen           2\n",
      "39          48        Lonesome Pine Restaurant           2\n",
      "40          58       Pericles Comidas clasicas           2\n",
      "41          62                   Queen Cozinha           2\n",
      "42          67              Ricardo Adocicados           2\n",
      "43          68              Richter Supermarkt           2\n",
      "44          73                   Simons bistro           2\n",
      "45          76                Suprames dalices           2\n",
      "46          81          Tradiaao Hipermercados           2\n",
      "47          83                    Vaffeljernet           2\n",
      "48          84            Victuailles en stock           2\n",
      "49          85       Vins et alcools Chevalier           2\n",
      "50          88          Wellington Importadora           2\n",
      "51          89            White Clover Markets           2\n"
     ]
    }
   ],
   "source": [
    "customers_multiple_orders_query = \"\"\"\n",
    "    SELECT c.customerid, c.customername, COUNT(o.orderid) AS OrderCount\n",
    "    FROM customers c\n",
    "    JOIN orders o ON c.customerid = o.customerid\n",
    "    GROUP BY c.customerid, c.customername\n",
    "    HAVING OrderCount > 1\n",
    "    ORDER BY OrderCount DESC;\n",
    "\"\"\"\n",
    "customers_multiple_orders_df = pd.read_sql_query(customers_multiple_orders_query, conn)\n",
    "print(\"Customers who made more than one order:\")\n",
    "print(customers_multiple_orders_df)"
   ]
  },
  {
   "cell_type": "markdown",
   "id": "5238a8cb",
   "metadata": {},
   "source": [
    "## Task 6: List of customers who did not order anything"
   ]
  },
  {
   "cell_type": "code",
   "execution_count": 14,
   "id": "484871cd",
   "metadata": {},
   "outputs": [
    {
     "name": "stdout",
     "output_type": "stream",
     "text": [
      "Customers who did not order anything:\n",
      "                            customername    country\n",
      "0                    Alfreds Futterkiste    Germany\n",
      "1                Blauer See Delikatessen    Germany\n",
      "2             Cactus Comidas para llevar  Argentina\n",
      "3   FISSA Fabrica Inter. Salchichas S.A.      Spain\n",
      "4                    France restauration     France\n",
      "5                Great Lakes Food Market        USA\n",
      "6                   La corne d'abondance     France\n",
      "7          Laughing Bacchus Wine Cellars     Canada\n",
      "8                   Lazy K Kountry Store        USA\n",
      "9                      Let's Stop N Shop        USA\n",
      "10                          Maison Dewey    Belgium\n",
      "11                           North/South         UK\n",
      "12                     Paris spacialitas     France\n",
      "13                         Rancho grande  Argentina\n",
      "14                  Spacialitas du monde     France\n",
      "15                       The Cracker Box        USA\n",
      "16     Trail's Head Gourmet Provisioners        USA\n"
     ]
    }
   ],
   "source": [
    "customers_no_orders_query = \"\"\"\n",
    "    SELECT c.customername, c.country FROM customers c\n",
    "    LEFT JOIN orders o ON c.customerid = o.customerid\n",
    "    WHERE o.customerid IS NULL;\n",
    "\"\"\"\n",
    "customers_no_orders_df = pd.read_sql_query(customers_no_orders_query, conn)\n",
    "print(\"Customers who did not order anything:\")\n",
    "print(customers_no_orders_df)"
   ]
  },
  {
   "cell_type": "markdown",
   "id": "83fc231e",
   "metadata": {},
   "source": [
    "## Close the database connection"
   ]
  },
  {
   "cell_type": "code",
   "execution_count": 15,
   "id": "93f15bad",
   "metadata": {},
   "outputs": [],
   "source": [
    "conn.close()"
   ]
  },
  {
   "cell_type": "code",
   "execution_count": null,
   "id": "7fc474f2",
   "metadata": {},
   "outputs": [],
   "source": []
  }
 ],
 "metadata": {
  "kernelspec": {
   "display_name": "Python 3 (ipykernel)",
   "language": "python",
   "name": "python3"
  },
  "language_info": {
   "codemirror_mode": {
    "name": "ipython",
    "version": 3
   },
   "file_extension": ".py",
   "mimetype": "text/x-python",
   "name": "python",
   "nbconvert_exporter": "python",
   "pygments_lexer": "ipython3",
   "version": "3.11.2"
  }
 },
 "nbformat": 4,
 "nbformat_minor": 5
}
